{
 "cells": [
  {
   "cell_type": "code",
   "execution_count": 18,
   "id": "a189c78e",
   "metadata": {},
   "outputs": [],
   "source": [
    "import numpy as np\n",
    "import tensorflow as tf\n",
    "from tensorflow import keras\n",
    "import matplotlib.pyplot as plt\n",
    "from tensorflow.keras.layers import LeakyReLU"
   ]
  },
  {
   "cell_type": "code",
   "execution_count": 2,
   "id": "b21a893d",
   "metadata": {},
   "outputs": [],
   "source": [
    "(x_train,y_train),(x_test,y_test)=tf.keras.datasets.mnist.load_data()"
   ]
  },
  {
   "cell_type": "code",
   "execution_count": 3,
   "id": "2f126c1c",
   "metadata": {},
   "outputs": [
    {
     "data": {
      "text/plain": [
       "array([5, 0, 4, ..., 5, 6, 8], dtype=uint8)"
      ]
     },
     "execution_count": 3,
     "metadata": {},
     "output_type": "execute_result"
    }
   ],
   "source": [
    "y_train"
   ]
  },
  {
   "cell_type": "code",
   "execution_count": 4,
   "id": "83f0b123",
   "metadata": {},
   "outputs": [
    {
     "data": {
      "text/plain": [
       "(28, 28)"
      ]
     },
     "execution_count": 4,
     "metadata": {},
     "output_type": "execute_result"
    }
   ],
   "source": [
    "x_train[0].shape"
   ]
  },
  {
   "cell_type": "code",
   "execution_count": 5,
   "id": "5b5e640e",
   "metadata": {},
   "outputs": [
    {
     "name": "stdout",
     "output_type": "stream",
     "text": [
      "784\n",
      "60000\n"
     ]
    }
   ],
   "source": [
    "print(28*28)\n",
    "print(len(x_train))"
   ]
  },
  {
   "cell_type": "code",
   "execution_count": 6,
   "id": "7872a496",
   "metadata": {},
   "outputs": [],
   "source": [
    "x_train_flatten=x_train.reshape(len(x_train),784)\n",
    "x_test_flatten=x_test.reshape(len(x_test),784)\n",
    "x_train_flatten=x_train_flatten/255\n",
    "x_test_flatten=x_test_flatten/255"
   ]
  },
  {
   "cell_type": "code",
   "execution_count": 7,
   "id": "e90846b3",
   "metadata": {},
   "outputs": [
    {
     "data": {
      "text/plain": [
       "<matplotlib.image.AxesImage at 0x20772d8fbb0>"
      ]
     },
     "execution_count": 7,
     "metadata": {},
     "output_type": "execute_result"
    },
    {
     "data": {
      "image/png": "[encoded data removed]",
      "text/plain": [
       "<Figure size 288x288 with 1 Axes>"
      ]
     },
     "metadata": {
      "needs_background": "light"
     },
     "output_type": "display_data"
    }
   ],
   "source": [
    "plt.matshow(x_train[150])"
   ]
  },
  {
   "cell_type": "code",
   "execution_count": 25,
   "id": "b234f86e",
   "metadata": {},
   "outputs": [],
   "source": [
    "model=keras.Sequential([\n",
    "    keras.layers.Dense(100,input_shape=(784,),activation='relu'),\n",
    "    keras.layers.Dense(50,input_shape=(784,),activation=LeakyReLU(alpha=0.1)),\n",
    "    keras.layers.Dense(20,input_shape=(784,),activation='LeakyReLU'),\n",
    "    keras.layers.Dense(10,activation='sigmoid')\n",
    "])\n",
    "model.compile(\n",
    "    optimizer='SGD',\n",
    "    loss='sparse_categorical_crossentropy',\n",
    "    metrics=['accuracy']\n",
    ")"
   ]
  },
  {
   "cell_type": "code",
   "execution_count": 26,
   "id": "05bddb50",
   "metadata": {},
   "outputs": [
    {
     "name": "stdout",
     "output_type": "stream",
     "text": [
      "Epoch 1/20\n",
"1875/1875 [==============================] - 3s 2ms/step - loss: 0.1335 - accuracy: 0.9606\n",
"Epoch 2/20\n",
"1875/1875 [==============================] - 4s 2ms/step - loss: 0.1193 - accuracy: 0.9653\n",
"Epoch 3/20\n",
"1875/1875 [==============================] - 3s 2ms/step - loss: 0.1082 - accuracy: 0.9677\n",
"Epoch 4/20\n",
"1875/1875 [==============================] - 3s 2ms/step - loss: 0.0986 - accuracy: 0.9706\n",
"Epoch 5/20\n",
"1875/1875 [==============================] - 3s 2ms/step - loss: 0.0907 - accuracy: 0.9729\n",
"Epoch 6/20\n",
"1875/1875 [==============================] - 3s 2ms/step - loss: 0.0829 - accuracy: 0.9762\n",
"Epoch 7/20\n",
"1875/1875 [==============================] - 3s 2ms/step - loss: 0.0760 - accuracy: 0.9780\n",
"Epoch 8/20\n",
"1875/1875 [==============================] - 3s 2ms/step - loss: 0.0705 - accuracy: 0.9796\n",
"Epoch 9/20\n",
"1875/1875 [==============================] - 3s 2ms/step - loss: 0.0651 - accuracy: 0.9803\n",
"Epoch 10/20\n",
"1875/1875 [==============================] - 3s 2ms/step - loss: 0.0603 - accuracy: 0.9820\n",
"Epoch 11/20\n",
"1875/1875 [==============================] - 3s 2ms/step - loss: 0.0561 - accuracy: 0.9839\n",
"Epoch 12/20\n",
"1875/1875 [==============================] - 3s 2ms/step - loss: 0.0525 - accuracy: 0.9848\n",
"Epoch 13/20\n",
"1875/1875 [==============================] - 3s 2ms/step - loss: 0.0485 - accuracy: 0.9862\n",
"Epoch 14/20\n",
"1875/1875 [==============================] - 3s 2ms/step - loss: 0.0447 - accuracy: 0.9876\n",
"Epoch 15/20\n",
"1875/1875 [==============================] - 3s 2ms/step - loss: 0.0424 - accuracy: 0.9883\n",
"Epoch 16/20\n",
"1875/1875 [==============================] - 3s 2ms/step - loss: 0.0383 - accuracy: 0.9898\n",
"Epoch 17/20\n",
"1875/1875 [==============================] - 3s 2ms/step - loss: 0.0360 - accuracy: 0.9897\n",
"Epoch 18/20\n",
"1875/1875 [==============================] - 3s 2ms/step - loss: 0.0333 - accuracy: 0.9908\n",
"Epoch 19/20\n",
"1875/1875 [==============================] - 3s 2ms/step - loss: 0.0313 - accuracy: 0.9913\n",
"Epoch 20/20\n",
"1875/1875 [==============================] - 3s 2ms/step - loss: 0.0290 - accuracy: 0.9922"
     ]
    },
    {
     "data": {
      "text/plain": [
       "<keras.callbacks.History at 0x20700138f40>"
      ]
     },
     "execution_count": 26,
     "metadata": {},
     "output_type": "execute_result"
    }
   ],
   "source": [
    "model.fit(x_train_flatten,y_train,epochs=20)"
   ]
  },
  {
   "cell_type": "code",
   "execution_count": 14,
   "id": "c015f3b8",
   "metadata": {},
   "outputs": [
    {
     "name": "stdout",
     "output_type": "stream",
     "text": [
      "313/313 [==============================] - 1s 1ms/step - loss: 0.2257 - accuracy: 0.9350\n"
     ]
    },
    {
     "data": {
      "text/plain": [
       "[0.22567982971668243, 0.9350000023841858]"
      ]
     },
     "execution_count": 14,
     "metadata": {},
     "output_type": "execute_result"
    }
   ],
   "source": [
    "model.evaluate(x_test_flatten,y_test)"
   ]
  },
  {
   "cell_type": "code",
   "execution_count": 15,
   "id": "914b0ab0",
   "metadata": {},
   "outputs": [
    {
     "name": "stdout",
     "output_type": "stream",
     "text": [
      "313/313 [==============================] - 1s 1ms/step\n"
     ]
    },
    {
     "data": {
      "text/plain": [
       "array([5.1564395e-01, 2.8296721e-03, 6.7339444e-01, 9.4710273e-01,\n",
       "       4.2627659e-02, 3.8313964e-01, 4.7663631e-04, 9.9992353e-01,\n",
       "       1.8872516e-01, 8.8289565e-01], dtype=float32)"
      ]
     },
     "execution_count": 15,
     "metadata": {},
     "output_type": "execute_result"
    }
   ],
   "source": [
    "y_predicted=model.predict(x_test_flatten)\n",
    "y_predicted[0]"
   ]
  },
  {
   "cell_type": "code",
   "execution_count": 16,
   "id": "9e95ddd5",
   "metadata": {},
   "outputs": [
    {
     "data": {
      "text/plain": [
       "<matplotlib.image.AxesImage at 0x2447ee73430>"
      ]
     },
     "execution_count": 16,
     "metadata": {},
     "output_type": "execute_result"
    },
    {
     "data": {
      "image/png": "[encoded data removed]",
      "text/plain": [
       "<Figure size 288x288 with 1 Axes>"
      ]
     },
     "metadata": {
      "needs_background": "light"
     },
     "output_type": "display_data"
    }
   ],
   "source": [
    "plt.matshow(x_test[100])"
   ]
  },
  {
   "cell_type": "code",
   "execution_count": 17,
   "id": "a8fb340d",
   "metadata": {},
   "outputs": [
    {
     "data": {
      "text/plain": [
       "6"
      ]
     },
     "execution_count": 17,
     "metadata": {},
     "output_type": "execute_result"
    }
   ],
   "source": [
    "np.argmax(y_predicted[100])"
   ]
  },
  {
   "cell_type": "code",
   "execution_count": 18,
   "id": "d9a1fb41",
   "metadata": {},
   "outputs": [
    {
     "data": {
      "text/plain": [
       "[7, 2, 1, 0, 4]"
      ]
     },
     "execution_count": 18,
     "metadata": {},
     "output_type": "execute_result"
    }
   ],
   "source": [
    "y=[np.argmax(i) for i in y_predicted]\n",
    "y[:5]"
   ]
  },
  {
   "cell_type": "code",
   "execution_count": null,
   "id": "88538ded",
   "metadata": {},
   "outputs": [],
   "source": []
  }
 ],
 "metadata": {
  "kernelspec": {
   "display_name": "Python 3",
   "language": "python",
   "name": "python3"
  },
  "language_info": {
   "codemirror_mode": {
    "name": "ipython",
    "version": 3
   },
   "file_extension": ".py",
   "mimetype": "text/x-python",
   "name": "python",
   "nbconvert_exporter": "python",
   "pygments_lexer": "ipython3",
   "version": "3.8.8"
  }
 },
 "nbformat": 4,
 "nbformat_minor": 5
}
